{
  "nbformat": 4,
  "nbformat_minor": 0,
  "metadata": {
    "colab": {
      "provenance": [],
      "authorship_tag": "ABX9TyO/j8CM+3lGazJjrBPRYAUu",
      "include_colab_link": true
    },
    "kernelspec": {
      "name": "python3",
      "display_name": "Python 3"
    },
    "language_info": {
      "name": "python"
    }
  },
  "cells": [
    {
      "cell_type": "markdown",
      "metadata": {
        "id": "view-in-github",
        "colab_type": "text"
      },
      "source": [
        "<a href=\"https://colab.research.google.com/github/2303A52306/T-267/blob/main/T267_c.ipynb\" target=\"_parent\"><img src=\"https://colab.research.google.com/assets/colab-badge.svg\" alt=\"Open In Colab\"/></a>"
      ]
    },
    {
      "source": [
        "%%writefile quality_check.c\n",
        "   #include <stdio.h>\n",
        "   #include <stdlib.h>\n",
        "   #include <string.h>\n",
        "   typedef struct {\n",
        "       char name[50];\n",
        "       float purity;\n",
        "       int expiryDays;\n",
        "       int batchNumber;\n",
        "   } Item;\n",
        "   int checkQuality(Item item) {\n",
        "       const float MIN_PURITY = 90.0;\n",
        "       const int MIN_EXPIRY_DAYS = 30;\n",
        "       if (item.purity < MIN_PURITY || item.expiryDays < MIN_EXPIRY_DAYS) {\n",
        "           return 0;\n",
        "       }\n",
        "       return 1;\n",
        "   }\n",
        "   int main() {\n",
        "       Item sampleItems[] = {\n",
        "           {\"Pain Reliever\", 95.0, 60, 101},\n",
        "           {\"Antibiotic\", 85.0, 25, 102},\n",
        "           {\"Vitamin Supplement\", 92.0, 40, 103}\n",
        "       };\n",
        "       int numItems = sizeof(sampleItems) / sizeof(sampleItems[0]);\n",
        "       for (int i = 0; i < numItems; i++) {\n",
        "           printf(\"\\nChecking item: %s\\n\", sampleItems[i].name);\n",
        "           if (checkQuality(sampleItems[i])) {\n",
        "               printf(\"Batch %d: PASSES quality check.\\n\", sampleItems[i].batchNumber);\n",
        "           } else {\n",
        "               printf(\"Batch %d: FAILS quality check. REJECTED.\\n\", sampleItems[i].batchNumber);\n",
        "           }\n",
        "       }\n",
        "       return 0;\n",
        "   }"
      ],
      "cell_type": "code",
      "metadata": {
        "colab": {
          "base_uri": "https://localhost:8080/"
        },
        "id": "WxlmuYb6tvFV",
        "outputId": "cbc392be-f883-48cd-c2cc-ca68c0366b31"
      },
      "execution_count": 17,
      "outputs": [
        {
          "output_type": "stream",
          "name": "stdout",
          "text": [
            "Overwriting quality_check.c\n"
          ]
        }
      ]
    },
    {
      "source": [
        "!gcc quality_check.c -o quality_check"
      ],
      "cell_type": "code",
      "metadata": {
        "id": "DC9FbMr_t0Im"
      },
      "execution_count": 18,
      "outputs": []
    },
    {
      "source": [
        "!./quality_check"
      ],
      "cell_type": "code",
      "metadata": {
        "colab": {
          "base_uri": "https://localhost:8080/"
        },
        "id": "AYV5JeFjt2Ru",
        "outputId": "2bf90d8f-75f9-4e56-d70c-dafd69bd7ac7"
      },
      "execution_count": 19,
      "outputs": [
        {
          "output_type": "stream",
          "name": "stdout",
          "text": [
            "\n",
            "Checking item: Pain Reliever\n",
            "Batch 101: PASSES quality check.\n",
            "\n",
            "Checking item: Antibiotic\n",
            "Batch 102: FAILS quality check. REJECTED.\n",
            "\n",
            "Checking item: Vitamin Supplement\n",
            "Batch 103: PASSES quality check.\n"
          ]
        }
      ]
    }
  ]
}